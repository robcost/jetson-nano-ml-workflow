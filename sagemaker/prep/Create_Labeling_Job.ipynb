{
 "cells": [
  {
   "cell_type": "markdown",
   "metadata": {},
   "source": [
    "# Create and run SageMaker Ground Truth Labeling job\n",
    "\n",
    "This notebook creates a Ground Truth labeling job in SageMaker and lets you track the status of the job. Once this has completed, you can move onto the Prepare Data and Labels notebook. "
   ]
  },
  {
   "cell_type": "code",
   "execution_count": null,
   "metadata": {},
   "outputs": [],
   "source": [
    "BUCKET = '<S3 Bucket Name>' # Valid name for S3 bucket.\n",
    "IMG_FOLDER = 'images' # Any valid S3 prefix.\n",
    "MANIFEST_FOLDER = 'manifest' # Any valid S3 prefix.\n",
    "CLASS_NAME = '<Target object label name>' # The single label that will be annotated in the Ground Truth job."
   ]
  },
  {
   "cell_type": "code",
   "execution_count": null,
   "metadata": {},
   "outputs": [],
   "source": [
    "# for testing...\n",
    "\n",
    "BUCKET = 'robcost-potato' # Valid name for S3 bucket.\n",
    "IMG_FOLDER = 'images' # Any valid S3 prefix.\n",
    "MANIFEST_FOLDER = 'manifest' # Any valid S3 prefix.\n",
    "CLASS_NAME = 'potatohead' # The single label that will be annotated in the Ground Truth job."
   ]
  },
  {
   "cell_type": "markdown",
   "metadata": {},
   "source": [
    "## Import Dependencies"
   ]
  },
  {
   "cell_type": "code",
   "execution_count": null,
   "metadata": {},
   "outputs": [],
   "source": [
    "import sagemaker\n",
    "import numpy as np\n",
    "import random\n",
    "import os, shutil\n",
    "import json\n",
    "import boto3\n",
    "import time"
   ]
  },
  {
   "cell_type": "markdown",
   "metadata": {},
   "source": [
    "## Create asset bucket"
   ]
  },
  {
   "cell_type": "code",
   "execution_count": null,
   "metadata": {},
   "outputs": [],
   "source": [
    "role = sagemaker.get_execution_role()\n",
    "region = boto3.session.Session().region_name"
   ]
  },
  {
   "cell_type": "code",
   "execution_count": null,
   "metadata": {},
   "outputs": [],
   "source": [
    "# Make sure the bucket is in the same region as this notebook.\n",
    "\n",
    "s3 = boto3.client('s3', region_name=region)\n",
    "location = {'LocationConstraint': region}\n",
    "s3.create_bucket(Bucket=BUCKET,CreateBucketConfiguration=location)"
   ]
  },
  {
   "cell_type": "code",
   "execution_count": null,
   "metadata": {},
   "outputs": [],
   "source": [
    "bucket_region = s3.head_bucket(Bucket=BUCKET)['ResponseMetadata']['HTTPHeaders']['x-amz-bucket-region']\n",
    "assert bucket_region == region, \"Your S3 bucket {} and this notebook need to be in the same region.\".format(BUCKET)"
   ]
  },
  {
   "cell_type": "markdown",
   "metadata": {},
   "source": [
    "## Upload images to be annotated\n",
    "\n",
    "<span style=\"color:red\">**IMPORTANT - you must now upload your images to the bucket you specified in the previous cell, under a folder called /images.**</span>"
   ]
  },
  {
   "cell_type": "code",
   "execution_count": null,
   "metadata": {},
   "outputs": [],
   "source": [
    "# need to enumerate the bucket/images folder and get a list of all objects to create the manifest file from\n",
    "%time\n",
    "%run ./scripts/generate_gt_manifest.py -b $BUCKET -k $IMG_FOLDER\n",
    "s3_client = boto3.client('s3')\n",
    "with open('manifest.json') as file:\n",
    "    object = file.read()\n",
    "    s3_client.put_object(Body=object, Bucket=BUCKET, Key=MANIFEST_FOLDER + \"/manifest.json\")"
   ]
  },
  {
   "cell_type": "markdown",
   "metadata": {},
   "source": [
    "## Specify the categories\n",
    "\n",
    "To run an object detection labeling job, you must decide on a set of classes the annotators can choose from. At the moment, Ground Truth only supports annotating one object detection class at a time. To work with Ground Truth, this list needs to be converted to a .json file and uploaded to the S3 BUCKET."
   ]
  },
  {
   "cell_type": "code",
   "execution_count": null,
   "metadata": {},
   "outputs": [],
   "source": [
    "CLASS_LIST = [CLASS_NAME]\n",
    "print(\"Label space is {}\".format(CLASS_LIST))\n",
    "\n",
    "json_body = {\n",
    "    'labels': [{'label': label} for label in CLASS_LIST]\n",
    "}\n",
    "with open('class_labels.json', 'w') as f:\n",
    "    json.dump(json_body, f)\n",
    "    \n",
    "with open('class_labels.json') as file:\n",
    "    object = file.read()\n",
    "    s3_client.put_object(Body=object, Bucket=BUCKET, Key=MANIFEST_FOLDER + \"/class_labels.json\")"
   ]
  },
  {
   "cell_type": "markdown",
   "metadata": {},
   "source": [
    "You should now see class_labels.json in s3://BUCKET/EXP_NAME/."
   ]
  },
  {
   "cell_type": "markdown",
   "metadata": {},
   "source": [
    "## Create the instruction template\n",
    "Part or all of your images will be annotated by human annotators. It is essential to provide good instructions. Good instructions are:\n",
    "\n",
    " 1. Concise. We recommend limiting verbal/textual instruction to two sentences and focusing on clear visuals.\n",
    " 2. Visual. In the case of object detection, we recommend providing several labeled examples with different numbers of boxes.\n",
    " \n",
    "When used through the AWS Console, Ground Truth helps you create the instructions using a visual wizard. When using the API, you need to create an HTML template for your instructions. Below, we prepare a very simple but effective template and upload it to your S3 bucket.\n",
    "\n",
    "NOTE: If you use any images in your template (as we do), they need to be publicly accessible. You can enable public access to files in your S3 bucket through the S3 Console, as described in S3 Documentation.\n",
    "\n",
    "**Testing your instructions**\n",
    "\n",
    "**It is very easy to create broken instructions.** This might cause your labeling job to fail. However, it might also cause your job to complete with meaningless results if, for example, the annotators have no idea what to do or the instructions are misleading. At the moment the only way to test the instructions is to run your job in a private workforce. This is a way to run a mock labeling job for free.\n",
    "\n",
    "It is helpful to show examples of correctly labeled images in the instructions. The following code block produces several such examples for our dataset and saves them in s3://BUCKET/EXP_NAME/."
   ]
  },
  {
   "cell_type": "code",
   "execution_count": null,
   "metadata": {},
   "outputs": [],
   "source": [
    "from IPython.core.display import HTML, display\n",
    "\n",
    "def make_template(test_template=False, save_fname='instructions.template'):\n",
    "    template = r\"\"\"<script src=\"https://assets.crowd.aws/crowd-html-elements.js\"></script>\n",
    "    <crowd-form>\n",
    "      <crowd-bounding-box\n",
    "        name=\"boundingBox\"\n",
    "        src=\"{{{{ task.input.taskObject | grant_read_access }}}}\"\n",
    "        header=\"Dear Annotator, please draw a tight box around each {class_name} you see. Thank you!\"\n",
    "        labels=\"{labels_str}\"\n",
    "      >\n",
    "        <full-instructions header=\"Please annotate each {class_name}.\">\n",
    "\n",
    "    <ol>\n",
    "        <li><strong>Inspect</strong> the image</li>\n",
    "        <li><strong>Determine</strong> if the specified label is/are visible in the picture.</li>\n",
    "        <li><strong>Outline</strong> each instance of the specified label in the image using the provided “Box” tool.</li>\n",
    "    </ol>\n",
    "    <ul>\n",
    "        <li>Boxes should fit tight around each object</li>\n",
    "        <li>Do not include parts of the object are overlapping or that cannot be seen, even though you think you can interpolate the whole shape.</li>\n",
    "        <li>Avoid including shadows.</li>\n",
    "        <li>If the target is off screen, draw the box up to the edge of the image.</li>\n",
    "    </ul>\n",
    "\n",
    "        </full-instructions>\n",
    "        <short-instructions>\n",
    "            <p>Short Instructions</p>\n",
    "        </short-instructions>\n",
    "      </crowd-bounding-box>\n",
    "    </crowd-form>\n",
    "    \"\"\".format(class_name=CLASS_NAME,\n",
    "               labels_str=str(CLASS_LIST) if test_template else '{{ task.input.labels | to_json | escape }}')\n",
    "    with open(save_fname, 'w') as f:\n",
    "        f.write(template)\n",
    "\n",
    "        \n",
    "make_template(test_template=True, save_fname='instructions.html')\n",
    "make_template(test_template=False, save_fname='instructions.template')\n",
    "\n",
    "with open('instructions.template') as file:\n",
    "    object = file.read()\n",
    "    s3_client.put_object(Body=object, Bucket=BUCKET, Key=MANIFEST_FOLDER + \"/instructions.template\")"
   ]
  },
  {
   "cell_type": "markdown",
   "metadata": {},
   "source": [
    "You should now be able to find your template in s3://BUCKET/EXP_NAME/instructions.template."
   ]
  },
  {
   "cell_type": "markdown",
   "metadata": {},
   "source": [
    "## Create a Private Workforce for the labeling job\n",
    "\n",
    "This step will create the required Amazon Cognito User Pool, SageMaker Private Team, and Workers (users), that will be assigned the task of annotating the images."
   ]
  },
  {
   "cell_type": "code",
   "execution_count": null,
   "metadata": {},
   "outputs": [],
   "source": [
    "# create Cognito pool, team, and workers\n",
    "cognito = boto3.client('cognito-idp')\n",
    "myPool = cognito.create_user_pool(PoolName='sagemaker-groundtruth-user-pool')\n",
    "myPoolId = myPool[\"UserPool\"][\"Id\"]\n",
    "print('Cognito Pool ID: ' + myPoolId)"
   ]
  },
  {
   "cell_type": "code",
   "execution_count": null,
   "metadata": {},
   "outputs": [],
   "source": [
    "myPoolIdPre = myPoolId[:-9]\n",
    "myPoolIdNumber = myPoolId[len(myPoolIdPre):]\n",
    "print('Cognito Pool ID Number: ' + myPoolIdNumber)"
   ]
  },
  {
   "cell_type": "code",
   "execution_count": null,
   "metadata": {},
   "outputs": [],
   "source": [
    "myDomain = cognito.create_user_pool_domain(\n",
    "    Domain='sagemaker-groundtruth-workteam-' + myPoolIdNumber.lower(),\n",
    "    UserPoolId=myPoolId\n",
    ")"
   ]
  },
  {
   "cell_type": "code",
   "execution_count": null,
   "metadata": {},
   "outputs": [],
   "source": [
    "# create Cognito App Client\n",
    "appClient = cognito.create_user_pool_client(\n",
    "    UserPoolId=myPoolId,\n",
    "    ClientName=CLASS_NAME,\n",
    "    GenerateSecret=True,\n",
    ")\n",
    "appClientId = appClient[\"UserPoolClient\"][\"ClientId\"]\n",
    "print('Cognito Pool App Client ID: ' + appClientId)"
   ]
  },
  {
   "cell_type": "code",
   "execution_count": null,
   "metadata": {},
   "outputs": [],
   "source": [
    "group = cognito.create_group(\n",
    "    GroupName='sagemaker-groundtruth-user-group',\n",
    "    UserPoolId=myPoolId\n",
    ")"
   ]
  },
  {
   "cell_type": "code",
   "execution_count": null,
   "metadata": {},
   "outputs": [],
   "source": [
    "# create private work team\n",
    "sagemaker_client = boto3.client('sagemaker')\n",
    "workteam = sagemaker_client.create_workteam(\n",
    "    WorkteamName=CLASS_NAME + '-Team',\n",
    "    MemberDefinitions=[\n",
    "        {\n",
    "            'CognitoMemberDefinition': {\n",
    "                'UserPool': myPoolId,\n",
    "                'UserGroup': 'sagemaker-groundtruth-user-group',\n",
    "                'ClientId': appClientId\n",
    "            }\n",
    "        },\n",
    "    ],\n",
    "    Description='string'\n",
    ")\n",
    "private_workteam_arn = workteam[\"WorkteamArn\"]"
   ]
  },
  {
   "cell_type": "code",
   "execution_count": null,
   "metadata": {},
   "outputs": [],
   "source": [
    "workteamDetail = sagemaker_client.describe_workteam(\n",
    "    WorkteamName=CLASS_NAME + '-Team'\n",
    ")\n",
    "LabelPortalURL = workteamDetail[\"Workteam\"][\"SubDomain\"]\n",
    "print('Label Portal URL: https://' + LabelPortalURL)"
   ]
  },
  {
   "cell_type": "code",
   "execution_count": null,
   "metadata": {},
   "outputs": [],
   "source": [
    "appClientNew = cognito.describe_user_pool_client(\n",
    "    UserPoolId=myPoolId,\n",
    "    ClientId=appClientId\n",
    ")"
   ]
  },
  {
   "cell_type": "code",
   "execution_count": null,
   "metadata": {},
   "outputs": [],
   "source": [
    "callbackURLs = appClientNew[\"UserPoolClient\"][\"CallbackURLs\"]\n",
    "logoutURLs = appClientNew[\"UserPoolClient\"][\"LogoutURLs\"]"
   ]
  },
  {
   "cell_type": "code",
   "execution_count": null,
   "metadata": {},
   "outputs": [],
   "source": [
    "# need to enable the App Client settings, enable Cognito Pool and allowed OAuth2.0 settings.\n",
    "appClient = cognito.update_user_pool_client(\n",
    "    UserPoolId=myPoolId,\n",
    "    ClientId=appClientId,\n",
    "    AllowedOAuthFlows=['code','implicit'],\n",
    "    AllowedOAuthScopes=['email','openid','profile'],\n",
    "    AllowedOAuthFlowsUserPoolClient=True,\n",
    "    CallbackURLs=callbackURLs,\n",
    "    LogoutURLs=logoutURLs,\n",
    "    SupportedIdentityProviders=['COGNITO'],\n",
    ")"
   ]
  },
  {
   "cell_type": "code",
   "execution_count": null,
   "metadata": {},
   "outputs": [],
   "source": [
    "emailMessage = f\"\"\"<html>\n",
    "    <head>\n",
    "        <meta http-equiv=\"Content-Type\" content=\"text/html; charset=utf-8\">\n",
    "    </head>\n",
    "    <body>\n",
    "        <div>\n",
    "            <h2> <span style=\"font-family:\\'Amazon Ember\\',sans-serif;color:#333333\">You\\'re invited to work on a labeling\n",
    "                    project. <o:p></o:p> </span></h2>\n",
    "            <p\n",
    "                style=\"font-variant-ligatures: normal;font-variant-caps: normal;orphans:2;text-align:start;widows:2;-webkit-text-stroke-width: 0px;text-decoration-style:initial;text-decoration-color:initial;word-spacing:0px;padding-bottom:30px\">\n",
    "                <span style=\"font-size:13.5pt;font-family:\\'Amazon Ember\\',sans-serif;color:#333333\">You will need this\n",
    "                    Username and temporary password to log in the first time. <o:p></o:p> </span></p>\n",
    "            <p\n",
    "                style=\"font-variant-ligatures: normal;font-variant-caps: normal;orphans:2;text-align:start;widows:2;-webkit-text-stroke-width: 0px;text-decoration-style:initial;text-decoration-color: initial;word-spacing:0px\">\n",
    "                <span style=\"font-size:13.5pt;font-family:\\'Amazon Ember\\',sans-serif;color:#333333\">User name:\n",
    "                    <b>{{username}}</b>\n",
    "                    <o:p></o:p>\n",
    "                </span></p>\n",
    "            <p\n",
    "                style=\"font-variant-ligatures: normal;font-variant-caps: normal;orphans:2;text-align:start;widows:2;-webkit-text-stroke-width: 0px;text-decoration-style:initial;text-decoration-color:initial;word-spacing:0px\">\n",
    "                <span style=\"font-size:13.5pt;font-family:\\'Amazon Ember\\',sans-serif;color:#333333\">Temporary password:\n",
    "                    <b>{{####}}</b>\n",
    "                    <o:p></o:p>\n",
    "                </span></p>\n",
    "            <p\n",
    "                style=\"font-variant-ligatures: normal;font-variant-caps: normal;orphans:2;text-align:start;widows:2;-webkit-text-stroke-width: 0px;text-decoration-style:initial;text-decoration-color:initial;word-spacing:0px\">\n",
    "                <span style=\"font-size:13.5pt;font-family:\\'Amazon Ember\\',sans-serif;color:#333333\">Open the link below to\n",
    "                    log in: <o:p></o:p> </span></p>\n",
    "            <p\n",
    "                style=\"font-variant-ligatures: normal;font-variant-caps: normal;orphans:2;text-align:start;widows:2;-webkit-text-stroke-width: 0px;text-decoration-style:initial;text-decoration-color:initial;word-spacing:0px;padding-bottom:30px\">\n",
    "                <span style=\"font-size:13.5pt;font-family:\\'Amazon Ember\\',sans-serif;color:#007DBC\"> <a href=\"https://{LabelPortalURL}\"\n",
    "                        target=\"_blank\">https://{LabelPortalURL}</a>\n",
    "                    <o:p></o:p>\n",
    "                </span></p>\n",
    "            <p\n",
    "                style=\"font-variant-ligatures: normal;font-variant-caps: normal;orphans:2;text-align:start;widows:2;-webkit-text-stroke-width: 0px;text-decoration-style:initial;text-decoration-color:initial;word-spacing:0px\">\n",
    "                <span style=\"font-size:13.5pt;font-family:\\'Amazon Ember\\',sans-serif;color:#333333\">After you log in with\n",
    "                    your temporary password, you are required to create a new one. <o:p></o:p> </span></p>\n",
    "        </div>\n",
    "    </body>\n",
    "</html>\"\"\""
   ]
  },
  {
   "cell_type": "code",
   "execution_count": null,
   "metadata": {},
   "outputs": [],
   "source": [
    "# now update the email template used by cognito to invite users\n",
    "cognito.update_user_pool(\n",
    "    UserPoolId=myPoolId,\n",
    "    AdminCreateUserConfig={\n",
    "        'AllowAdminCreateUserOnly': True,\n",
    "        'UnusedAccountValidityDays': 7,\n",
    "        'InviteMessageTemplate': {\n",
    "            'EmailMessage': emailMessage,\n",
    "            'EmailSubject': \"You're invited to work on a labeling project.\"\n",
    "        }\n",
    "    }\n",
    ")"
   ]
  },
  {
   "cell_type": "markdown",
   "metadata": {},
   "source": [
    "## Submit the Ground Truth job request\n",
    "The API starts a Ground Truth job by submitting a request. The request contains the \n",
    "full configuration of the annotation task, and allows you to modify the fine details of\n",
    "the job that are fixed to default values when you use the AWS Console. The parameters that make up the request are described in more detail in the [SageMaker Ground Truth documentation](https://docs.aws.amazon.com/sagemaker/latest/dg/API_CreateLabelingJob.html).\n",
    "\n",
    "After you submit the request, you should be able to see the job in your AWS Console, at `Amazon SageMaker > Labeling Jobs`.\n",
    "You can track the progress of the job there. This job will take several hours to complete. If your job\n",
    "is larger (say 100,000 images), the speed and cost benefit of auto-labeling should be larger."
   ]
  },
  {
   "cell_type": "code",
   "execution_count": null,
   "metadata": {},
   "outputs": [],
   "source": [
    "# Specify ARNs for resources needed to run an object detection job.\n",
    "ac_arn_map = {'us-west-2': '081040173940',\n",
    "              'us-east-1': '432418664414',\n",
    "              'us-east-2': '266458841044',\n",
    "              'eu-west-1': '568282634449',\n",
    "              'ap-northeast-1': '477331159723',\n",
    "              'ap-southeast-2': '454466003867'}\n",
    "\n",
    "prehuman_arn = 'arn:aws:lambda:{}:{}:function:PRE-BoundingBox'.format(region, ac_arn_map[region])\n",
    "acs_arn = 'arn:aws:lambda:{}:{}:function:ACS-BoundingBox'.format(region, ac_arn_map[region]) \n",
    "labeling_algorithm_specification_arn = 'arn:aws:sagemaker:{}:027400017018:labeling-job-algorithm-specification/object-detection'.format(region)"
   ]
  },
  {
   "cell_type": "code",
   "execution_count": null,
   "metadata": {},
   "outputs": [],
   "source": [
    "%time\n",
    "task_description = 'Dear Annotator, please draw a box around each {}. Thank you!'.format(CLASS_NAME)\n",
    "task_keywords = ['image', 'object', 'detection']\n",
    "task_title = 'Please draw a box around each {}.'.format(CLASS_NAME)\n",
    "job_name = CLASS_NAME + str(int(time.time()))\n",
    "\n",
    "human_task_config = {\n",
    "      \"AnnotationConsolidationConfig\": {\n",
    "        \"AnnotationConsolidationLambdaArn\": acs_arn,\n",
    "      },\n",
    "      \"PreHumanTaskLambdaArn\": prehuman_arn,\n",
    "      \"MaxConcurrentTaskCount\": 200, # 200 images will be sent at a time to the workteam.\n",
    "      \"NumberOfHumanWorkersPerDataObject\": 5, # We will obtain and consolidate 5 human annotations for each image.\n",
    "      \"TaskAvailabilityLifetimeInSeconds\": 21600, # Your workteam has 6 hours to complete all pending tasks.\n",
    "      \"TaskDescription\": task_description,\n",
    "      \"TaskKeywords\": task_keywords,\n",
    "      \"TaskTimeLimitInSeconds\": 300, # Each image must be labeled within 5 minutes.\n",
    "      \"TaskTitle\": task_title,\n",
    "      \"UiConfig\": {\n",
    "        \"UiTemplateS3Uri\": 's3://{}/{}/instructions.template'.format(BUCKET, MANIFEST_FOLDER),\n",
    "      }\n",
    "    }\n",
    "\n",
    "human_task_config[\"WorkteamArn\"] = private_workteam_arn\n",
    "\n",
    "ground_truth_request = {\n",
    "        \"InputConfig\" : {\n",
    "          \"DataSource\": {\n",
    "            \"S3DataSource\": {\n",
    "              \"ManifestS3Uri\": 's3://{}/{}/{}'.format(BUCKET, MANIFEST_FOLDER, 'manifest.json'),\n",
    "            }\n",
    "          },\n",
    "          \"DataAttributes\": {\n",
    "            \"ContentClassifiers\": [\n",
    "              \"FreeOfPersonallyIdentifiableInformation\",\n",
    "              \"FreeOfAdultContent\"\n",
    "            ]\n",
    "          },  \n",
    "        },\n",
    "        \"OutputConfig\" : {\n",
    "          \"S3OutputPath\": 's3://{}/{}/output/'.format(BUCKET, IMG_FOLDER),\n",
    "        },\n",
    "        \"HumanTaskConfig\" : human_task_config,\n",
    "        \"LabelingJobName\": job_name,\n",
    "        \"RoleArn\": role, \n",
    "        \"LabelAttributeName\": \"category\",\n",
    "        \"LabelCategoryConfigS3Uri\": 's3://{}/{}/class_labels.json'.format(BUCKET, MANIFEST_FOLDER),\n",
    "    }\n",
    "\n",
    "ground_truth_request[ \"LabelingJobAlgorithmsConfig\"] = {\"LabelingJobAlgorithmSpecificationArn\": labeling_algorithm_specification_arn\n",
    "                                       }\n",
    "label_job = sagemaker_client.create_labeling_job(**ground_truth_request)\n",
    "print(label_job)"
   ]
  },
  {
   "cell_type": "markdown",
   "metadata": {},
   "source": [
    "# STOP HERE!!!\n",
    "## <span style=\"color:red\">**You must now use the Labeling Portal to label your images before proceeding!!!**</span>\n",
    "\n",
    "------------"
   ]
  },
  {
   "cell_type": "markdown",
   "metadata": {},
   "source": [
    "# Prepare Labeled Data for Training\n",
    "\n",
    "Here you will split the dataset, augment it with additional data, and create the manifest files required for training."
   ]
  },
  {
   "cell_type": "code",
   "execution_count": null,
   "metadata": {},
   "outputs": [],
   "source": [
    "label_job_id = label_job[\"LabelingJobArn\"].split(\"/\")[1]"
   ]
  },
  {
   "cell_type": "code",
   "execution_count": null,
   "metadata": {},
   "outputs": [],
   "source": [
    "def train_validation_split(labels, split_factor=0.9):\n",
    "    np.random.shuffle(labels)\n",
    "\n",
    "    dataset_size = len(labels)\n",
    "    train_test_split_index = round(dataset_size*split_factor)\n",
    "\n",
    "    train_data = labels[:train_test_split_index]\n",
    "    validation_data = labels[train_test_split_index:]\n",
    "    return train_data, validation_data\n",
    "\n",
    "def read_manifest_file(file_path):\n",
    "    with open(file_path, 'r') as f:\n",
    "        output = [json.loads(line.strip()) for line in f.readlines()]\n",
    "        return output"
   ]
  },
  {
   "cell_type": "code",
   "execution_count": null,
   "metadata": {},
   "outputs": [],
   "source": [
    "output_manifest_s3_uri = sagemaker_client.describe_labeling_job(LabelingJobName=label_job_id)['LabelingJobOutput']['OutputDatasetS3Uri']\n",
    "print('Job Output Manifest: ' + output_manifest_s3_uri)"
   ]
  },
  {
   "cell_type": "code",
   "execution_count": null,
   "metadata": {},
   "outputs": [],
   "source": [
    "output_manifest_fname = \"{}-{}\".format(label_job_id, os.path.split(output_manifest_s3_uri)[1])\n",
    "!aws s3 cp $output_manifest_s3_uri $output_manifest_fname\n",
    "output_manifest_local_path = output_manifest_fname\n",
    "output_manifest_lines = read_manifest_file(output_manifest_local_path)"
   ]
  },
  {
   "cell_type": "code",
   "execution_count": null,
   "metadata": {},
   "outputs": [],
   "source": [
    "train_data, validation_data = train_validation_split(np.array(output_manifest_lines), split_factor=0.9)\n",
    "print(\"training data size:{}\\nvalidation data size:{}\".format(train_data.shape[0], validation_data.shape[0]))"
   ]
  },
  {
   "cell_type": "code",
   "execution_count": null,
   "metadata": {},
   "outputs": [],
   "source": [
    "with open('./train.manifest', 'w') as f:\n",
    "    for line in train_data:\n",
    "        f.write(json.dumps(line))\n",
    "        f.write('\\n')\n",
    "    \n",
    "with open('./validation.manifest', 'w') as f:\n",
    "    for line in validation_data:\n",
    "        f.write(json.dumps(line))\n",
    "        f.write('\\n')"
   ]
  },
  {
   "cell_type": "code",
   "execution_count": null,
   "metadata": {},
   "outputs": [],
   "source": [
    "!wc -l ./train.manifest\n",
    "!wc -l ./validation.manifest"
   ]
  },
  {
   "cell_type": "code",
   "execution_count": null,
   "metadata": {},
   "outputs": [],
   "source": [
    "train_manifest_location = 's3://{}/{}/train.manifest'.format(BUCKET,MANIFEST_FOLDER)\n",
    "validation_manifest_location = 's3://{}/{}/validation.manifest'.format(BUCKET,MANIFEST_FOLDER)\n",
    "print(validation_manifest_location)"
   ]
  },
  {
   "cell_type": "code",
   "execution_count": null,
   "metadata": {},
   "outputs": [],
   "source": [
    "s3_client = boto3.client('s3')\n",
    "with open('train.manifest') as file:\n",
    "    object = file.read()\n",
    "    s3_client.put_object(Body=object, Bucket=BUCKET, Key=MANIFEST_FOLDER + \"/train.manifest\")\n",
    "    \n",
    "with open('validation.manifest') as file:\n",
    "    object = file.read()\n",
    "    s3_client.put_object(Body=object, Bucket=BUCKET, Key=MANIFEST_FOLDER + \"/validation.manifest\")"
   ]
  },
  {
   "cell_type": "code",
   "execution_count": null,
   "metadata": {},
   "outputs": [],
   "source": [
    "def make_tmp_folder(folder_name):\n",
    "    try:\n",
    "        os.makedirs(folder_name, exist_ok=False)\n",
    "    except FileExistsError:\n",
    "        print(\"{} folder already exists\".format(folder_name))\n",
    "        \n",
    "TMP_FOLDER_NAME = 'tmp'\n",
    "make_tmp_folder(TMP_FOLDER_NAME)"
   ]
  },
  {
   "cell_type": "code",
   "execution_count": null,
   "metadata": {},
   "outputs": [],
   "source": [
    "%%time\n",
    "print(TMP_FOLDER_NAME)\n",
    "%run ./scripts/flip_images.py -m s3://$BUCKET/$MANIFEST_FOLDER/train.manifest -d $TMP_FOLDER_NAME -b $BUCKET"
   ]
  },
  {
   "cell_type": "code",
   "execution_count": null,
   "metadata": {},
   "outputs": [],
   "source": [
    "%time\n",
    "%run ./scripts/flip_annotations.py -m s3://$BUCKET/$MANIFEST_FOLDER/train.manifest -d $TMP_FOLDER_NAME -p $CLASS_NAME -c $CLASS_NAME"
   ]
  },
  {
   "cell_type": "markdown",
   "metadata": {},
   "source": [
    "### The updated TRAINING manifest file is now uploaded to: *s3://$BUCKET/CLASS_NAME/all_augmented.json*"
   ]
  },
  {
   "cell_type": "markdown",
   "metadata": {},
   "source": [
    "### The VALIDATION manifest will be located here: *s3://$BUCKET/$MANIFEST_FOLDER/validation.manifest*"
   ]
  },
  {
   "cell_type": "markdown",
   "metadata": {},
   "source": [
    "# Next step\n",
    "\n",
    "Now we are ready to start training jobs! Move on to the [next notebook](./02_sagemaker_training_API.ipynb) to submit a sagemaker training job to train our custom object detection model!"
   ]
  },
  {
   "cell_type": "code",
   "execution_count": null,
   "metadata": {},
   "outputs": [],
   "source": []
  }
 ],
 "metadata": {
  "kernelspec": {
   "display_name": "conda_pytorch_p36",
   "language": "python",
   "name": "conda_pytorch_p36"
  },
  "language_info": {
   "codemirror_mode": {
    "name": "ipython",
    "version": 3
   },
   "file_extension": ".py",
   "mimetype": "text/x-python",
   "name": "python",
   "nbconvert_exporter": "python",
   "pygments_lexer": "ipython3",
   "version": "3.6.5"
  }
 },
 "nbformat": 4,
 "nbformat_minor": 4
}
